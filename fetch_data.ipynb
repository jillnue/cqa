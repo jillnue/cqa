{
 "cells": [
  {
   "cell_type": "code",
   "execution_count": 1,
   "metadata": {},
   "outputs": [],
   "source": [
    "import pandas as pd"
   ]
  },
  {
   "cell_type": "code",
   "execution_count": 15,
   "metadata": {},
   "outputs": [],
   "source": [
    "ticker = pd.read_excel('./basic_data/universe_beta.xlsx', index_col ='Ticker').index"
   ]
  },
  {
   "cell_type": "code",
   "execution_count": 16,
   "metadata": {},
   "outputs": [
    {
     "data": {
      "text/plain": [
       "Index([u'A', u'AA', u'AAL', u'AAP', u'AAPL', u'ABBV', u'ABC', u'ABMD', u'ABT',\n",
       "       u'ACAD',\n",
       "       ...\n",
       "       u'YUM', u'YUMC', u'Z', u'ZAYO', u'ZBH', u'ZBRA', u'ZG', u'ZION',\n",
       "       u'ZNGA', u'ZTS'],\n",
       "      dtype='object', name=u'Ticker', length=978)"
      ]
     },
     "execution_count": 16,
     "metadata": {},
     "output_type": "execute_result"
    }
   ],
   "source": [
    "ticker"
   ]
  },
  {
   "cell_type": "code",
   "execution_count": 27,
   "metadata": {},
   "outputs": [],
   "source": [
    "cat = pd.read_csv('./basic_data/final_sector.csv', index_col = 'ticker')\n",
    "xly = cat[cat.xly].index\n",
    "xlp = cat[cat.xlp].index\n",
    "xle = cat[cat.xle].index\n",
    "xlf = cat[cat.xlf].index\n",
    "xlv = cat[cat.xlv].index\n",
    "xli = cat[cat.xli].index\n",
    "xlb = cat[cat.xlb].index\n",
    "xlre = cat[cat.xlre].index\n",
    "xlk = cat[cat.xlk].index\n",
    "xlu = cat[cat.xlu].index"
   ]
  },
  {
   "cell_type": "code",
   "execution_count": null,
   "metadata": {},
   "outputs": [],
   "source": []
  }
 ],
 "metadata": {
  "kernelspec": {
   "display_name": "Python 2",
   "language": "python",
   "name": "python2"
  },
  "language_info": {
   "codemirror_mode": {
    "name": "ipython",
    "version": 2
   },
   "file_extension": ".py",
   "mimetype": "text/x-python",
   "name": "python",
   "nbconvert_exporter": "python",
   "pygments_lexer": "ipython2",
   "version": "2.7.12"
  }
 },
 "nbformat": 4,
 "nbformat_minor": 2
}
