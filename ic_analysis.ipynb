{
 "cells": [
  {
   "cell_type": "code",
   "execution_count": 1,
   "metadata": {},
   "outputs": [
    {
     "name": "stderr",
     "output_type": "stream",
     "text": [
      "/usr/local/lib/python2.7/dist-packages/statsmodels/compat/pandas.py:56: FutureWarning: The pandas.core.datetools module is deprecated and will be removed in a future version. Please use the pandas.tseries module instead.\n",
      "  from pandas.core import datetools\n"
     ]
    }
   ],
   "source": [
    "import alphalens"
   ]
  },
  {
   "cell_type": "markdown",
   "metadata": {},
   "source": [
    "Let's first read in the tickers"
   ]
  },
  {
   "cell_type": "code",
   "execution_count": 13,
   "metadata": {},
   "outputs": [],
   "source": [
    "import pandas as pd\n",
    "ticker = pd.read_csv('./Three+Factors+Alpha.csv', index_col = 0).index\n"
   ]
  },
  {
   "cell_type": "code",
   "execution_count": 14,
   "metadata": {},
   "outputs": [
    {
     "data": {
      "text/plain": [
       "Index([u'A', u'AA', u'AAL', u'AAP', u'AAPL', u'ABBV', u'ABC', u'ABMD', u'ABT',\n",
       "       u'ACAD',\n",
       "       ...\n",
       "       u'YUM', u'YUMC', u'Z', u'ZAYO', u'ZBH', u'ZBRA', u'ZG', u'ZION',\n",
       "       u'ZNGA', u'ZTS'],\n",
       "      dtype='object', length=978)"
      ]
     },
     "execution_count": 14,
     "metadata": {},
     "output_type": "execute_result"
    }
   ],
   "source": [
    "ticker"
   ]
  },
  {
   "cell_type": "markdown",
   "metadata": {},
   "source": [
    "now read in the price data"
   ]
  },
  {
   "cell_type": "code",
   "execution_count": 23,
   "metadata": {},
   "outputs": [],
   "source": [
    "price = pd.DataFrame()\n",
    "for s in ticker:\n",
    "    price[s] = pd.read_csv('./price_data/'+s+'.csv', index_col =0, parse_dates=True).Close\n",
    "    "
   ]
  },
  {
   "cell_type": "markdown",
   "metadata": {},
   "source": [
    "create a dictionary that contains the ticker_sector"
   ]
  },
  {
   "cell_type": "code",
   "execution_count": 28,
   "metadata": {},
   "outputs": [],
   "source": [
    "sector_name ={\n",
    "    0: \"xly\",\n",
    "    1: \"xlp\",\n",
    "    2: \"xle\",\n",
    "    3: \"xlf\",\n",
    "    4: \"xlv\",\n",
    "    5: \"xli\",\n",
    "    6: \"xlre\",\n",
    "    7: \"xlk\",\n",
    "    8: \"xlu\",\n",
    "    9: \"xlb\",\n",
    "             }"
   ]
  },
  {
   "cell_type": "code",
   "execution_count": 30,
   "metadata": {},
   "outputs": [],
   "source": [
    "sector ={}\n",
    "for i in range(10):\n",
    "    index = pd.read_csv('./rank_result/'+sector_name[i]+'_rank.csv', index_col =0).index\n",
    "    for s in index:\n",
    "        sector[s] = i\n",
    "    "
   ]
  },
  {
   "cell_type": "markdown",
   "metadata": {},
   "source": [
    "read in the factors"
   ]
  },
  {
   "cell_type": "code",
   "execution_count": null,
   "metadata": {},
   "outputs": [],
   "source": []
  }
 ],
 "metadata": {
  "kernelspec": {
   "display_name": "Python 2",
   "language": "python",
   "name": "python2"
  },
  "language_info": {
   "codemirror_mode": {
    "name": "ipython",
    "version": 2
   },
   "file_extension": ".py",
   "mimetype": "text/x-python",
   "name": "python",
   "nbconvert_exporter": "python",
   "pygments_lexer": "ipython2",
   "version": "2.7.12"
  }
 },
 "nbformat": 4,
 "nbformat_minor": 2
}
