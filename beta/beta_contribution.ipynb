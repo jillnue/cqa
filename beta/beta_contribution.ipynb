{
 "cells": [
  {
   "cell_type": "code",
   "execution_count": 1,
   "metadata": {},
   "outputs": [],
   "source": [
    "import pandas as pd"
   ]
  },
  {
   "cell_type": "code",
   "execution_count": 32,
   "metadata": {},
   "outputs": [],
   "source": [
    "position = pd.read_csv(\"OpenPosition.csv\", index_col =0)"
   ]
  },
  {
   "cell_type": "code",
   "execution_count": 33,
   "metadata": {},
   "outputs": [
    {
     "data": {
      "text/html": [
       "<div>\n",
       "<table border=\"1\" class=\"dataframe\">\n",
       "  <thead>\n",
       "    <tr style=\"text-align: right;\">\n",
       "      <th></th>\n",
       "      <th>Symbol</th>\n",
       "      <th>Description</th>\n",
       "      <th>Quantity</th>\n",
       "      <th>Currency</th>\n",
       "      <th>LastPrice</th>\n",
       "      <th>PricePaid</th>\n",
       "      <th>DayChange</th>\n",
       "      <th>ProfitLoss</th>\n",
       "      <th>MarketValue</th>\n",
       "      <th>ProfitLossPercentage</th>\n",
       "      <th>Beta</th>\n",
       "    </tr>\n",
       "  </thead>\n",
       "  <tbody>\n",
       "    <tr>\n",
       "      <th>0</th>\n",
       "      <td>AA</td>\n",
       "      <td>Alcoa Inc.</td>\n",
       "      <td>-479</td>\n",
       "      <td>USD</td>\n",
       "      <td>42.500</td>\n",
       "      <td>41.74</td>\n",
       "      <td>0.10</td>\n",
       "      <td>-364.04</td>\n",
       "      <td>20357.500</td>\n",
       "      <td>-1.82</td>\n",
       "      <td>1.02754</td>\n",
       "    </tr>\n",
       "    <tr>\n",
       "      <th>1</th>\n",
       "      <td>AAP</td>\n",
       "      <td>Advance Auto Parts Inc.</td>\n",
       "      <td>191</td>\n",
       "      <td>USD</td>\n",
       "      <td>102.280</td>\n",
       "      <td>103.89</td>\n",
       "      <td>-0.75</td>\n",
       "      <td>-307.51</td>\n",
       "      <td>19535.480</td>\n",
       "      <td>-1.55</td>\n",
       "      <td>0.99255</td>\n",
       "    </tr>\n",
       "    <tr>\n",
       "      <th>2</th>\n",
       "      <td>AES</td>\n",
       "      <td>The AES Corporation</td>\n",
       "      <td>1853</td>\n",
       "      <td>USD</td>\n",
       "      <td>10.730</td>\n",
       "      <td>10.79</td>\n",
       "      <td>0.01</td>\n",
       "      <td>-111.18</td>\n",
       "      <td>19882.690</td>\n",
       "      <td>-0.56</td>\n",
       "      <td>1.21778</td>\n",
       "    </tr>\n",
       "    <tr>\n",
       "      <th>3</th>\n",
       "      <td>AIV</td>\n",
       "      <td>Apartment Investment &amp; Management Company</td>\n",
       "      <td>453</td>\n",
       "      <td>USD</td>\n",
       "      <td>43.951</td>\n",
       "      <td>44.02</td>\n",
       "      <td>0.07</td>\n",
       "      <td>-31.26</td>\n",
       "      <td>19909.803</td>\n",
       "      <td>-0.16</td>\n",
       "      <td>0.47452</td>\n",
       "    </tr>\n",
       "    <tr>\n",
       "      <th>4</th>\n",
       "      <td>ALGN</td>\n",
       "      <td>Align Technology, Inc.</td>\n",
       "      <td>-79</td>\n",
       "      <td>USD</td>\n",
       "      <td>237.000</td>\n",
       "      <td>253.01</td>\n",
       "      <td>2.63</td>\n",
       "      <td>1,264.79</td>\n",
       "      <td>18723.000</td>\n",
       "      <td>6.33</td>\n",
       "      <td>1.44944</td>\n",
       "    </tr>\n",
       "  </tbody>\n",
       "</table>\n",
       "</div>"
      ],
      "text/plain": [
       "  Symbol                                Description  Quantity Currency  \\\n",
       "0     AA                                 Alcoa Inc.      -479      USD   \n",
       "1    AAP                    Advance Auto Parts Inc.       191      USD   \n",
       "2    AES                        The AES Corporation      1853      USD   \n",
       "3    AIV  Apartment Investment & Management Company       453      USD   \n",
       "4   ALGN                     Align Technology, Inc.       -79      USD   \n",
       "\n",
       "   LastPrice  PricePaid  DayChange ProfitLoss  MarketValue  \\\n",
       "0     42.500      41.74       0.10    -364.04    20357.500   \n",
       "1    102.280     103.89      -0.75    -307.51    19535.480   \n",
       "2     10.730      10.79       0.01    -111.18    19882.690   \n",
       "3     43.951      44.02       0.07     -31.26    19909.803   \n",
       "4    237.000     253.01       2.63   1,264.79    18723.000   \n",
       "\n",
       "   ProfitLossPercentage     Beta  \n",
       "0                 -1.82  1.02754  \n",
       "1                 -1.55  0.99255  \n",
       "2                 -0.56  1.21778  \n",
       "3                 -0.16  0.47452  \n",
       "4                  6.33  1.44944  "
      ]
     },
     "execution_count": 33,
     "metadata": {},
     "output_type": "execute_result"
    }
   ],
   "source": [
    "position.head()"
   ]
  },
  {
   "cell_type": "code",
   "execution_count": 34,
   "metadata": {},
   "outputs": [],
   "source": [
    "long_position = position[position.Quantity>0]"
   ]
  },
  {
   "cell_type": "code",
   "execution_count": 35,
   "metadata": {},
   "outputs": [
    {
     "data": {
      "text/html": [
       "<div>\n",
       "<table border=\"1\" class=\"dataframe\">\n",
       "  <thead>\n",
       "    <tr style=\"text-align: right;\">\n",
       "      <th></th>\n",
       "      <th>Symbol</th>\n",
       "      <th>Description</th>\n",
       "      <th>Quantity</th>\n",
       "      <th>Currency</th>\n",
       "      <th>LastPrice</th>\n",
       "      <th>PricePaid</th>\n",
       "      <th>DayChange</th>\n",
       "      <th>ProfitLoss</th>\n",
       "      <th>MarketValue</th>\n",
       "      <th>ProfitLossPercentage</th>\n",
       "      <th>Beta</th>\n",
       "    </tr>\n",
       "  </thead>\n",
       "  <tbody>\n",
       "    <tr>\n",
       "      <th>1</th>\n",
       "      <td>AAP</td>\n",
       "      <td>Advance Auto Parts Inc.</td>\n",
       "      <td>191</td>\n",
       "      <td>USD</td>\n",
       "      <td>102.280</td>\n",
       "      <td>103.89</td>\n",
       "      <td>-0.75</td>\n",
       "      <td>-307.51</td>\n",
       "      <td>19535.480</td>\n",
       "      <td>-1.55</td>\n",
       "      <td>0.99255</td>\n",
       "    </tr>\n",
       "    <tr>\n",
       "      <th>2</th>\n",
       "      <td>AES</td>\n",
       "      <td>The AES Corporation</td>\n",
       "      <td>1853</td>\n",
       "      <td>USD</td>\n",
       "      <td>10.730</td>\n",
       "      <td>10.79</td>\n",
       "      <td>0.01</td>\n",
       "      <td>-111.18</td>\n",
       "      <td>19882.690</td>\n",
       "      <td>-0.56</td>\n",
       "      <td>1.21778</td>\n",
       "    </tr>\n",
       "    <tr>\n",
       "      <th>3</th>\n",
       "      <td>AIV</td>\n",
       "      <td>Apartment Investment &amp; Management Company</td>\n",
       "      <td>453</td>\n",
       "      <td>USD</td>\n",
       "      <td>43.951</td>\n",
       "      <td>44.02</td>\n",
       "      <td>0.07</td>\n",
       "      <td>-31.26</td>\n",
       "      <td>19909.803</td>\n",
       "      <td>-0.16</td>\n",
       "      <td>0.47452</td>\n",
       "    </tr>\n",
       "    <tr>\n",
       "      <th>8</th>\n",
       "      <td>APA</td>\n",
       "      <td>Apache Corporation</td>\n",
       "      <td>449</td>\n",
       "      <td>USD</td>\n",
       "      <td>39.500</td>\n",
       "      <td>44.74</td>\n",
       "      <td>-0.22</td>\n",
       "      <td>-2,352.76</td>\n",
       "      <td>17735.500</td>\n",
       "      <td>-11.71</td>\n",
       "      <td>1.06901</td>\n",
       "    </tr>\n",
       "    <tr>\n",
       "      <th>11</th>\n",
       "      <td>BBBY</td>\n",
       "      <td>Bed Bath &amp; Beyond Inc.</td>\n",
       "      <td>825</td>\n",
       "      <td>USD</td>\n",
       "      <td>23.560</td>\n",
       "      <td>24.14</td>\n",
       "      <td>0.38</td>\n",
       "      <td>-478.5</td>\n",
       "      <td>19437.000</td>\n",
       "      <td>-2.40</td>\n",
       "      <td>1.08043</td>\n",
       "    </tr>\n",
       "  </tbody>\n",
       "</table>\n",
       "</div>"
      ],
      "text/plain": [
       "   Symbol                                Description  Quantity Currency  \\\n",
       "1     AAP                    Advance Auto Parts Inc.       191      USD   \n",
       "2     AES                        The AES Corporation      1853      USD   \n",
       "3     AIV  Apartment Investment & Management Company       453      USD   \n",
       "8     APA                         Apache Corporation       449      USD   \n",
       "11   BBBY                     Bed Bath & Beyond Inc.       825      USD   \n",
       "\n",
       "    LastPrice  PricePaid  DayChange ProfitLoss  MarketValue  \\\n",
       "1     102.280     103.89      -0.75    -307.51    19535.480   \n",
       "2      10.730      10.79       0.01    -111.18    19882.690   \n",
       "3      43.951      44.02       0.07     -31.26    19909.803   \n",
       "8      39.500      44.74      -0.22  -2,352.76    17735.500   \n",
       "11     23.560      24.14       0.38     -478.5    19437.000   \n",
       "\n",
       "    ProfitLossPercentage     Beta  \n",
       "1                  -1.55  0.99255  \n",
       "2                  -0.56  1.21778  \n",
       "3                  -0.16  0.47452  \n",
       "8                 -11.71  1.06901  \n",
       "11                 -2.40  1.08043  "
      ]
     },
     "execution_count": 35,
     "metadata": {},
     "output_type": "execute_result"
    }
   ],
   "source": [
    "long_position.head()"
   ]
  },
  {
   "cell_type": "code",
   "execution_count": 36,
   "metadata": {},
   "outputs": [
    {
     "name": "stderr",
     "output_type": "stream",
     "text": [
      "/usr/local/lib/python2.7/dist-packages/ipykernel_launcher.py:1: SettingWithCopyWarning: \n",
      "A value is trying to be set on a copy of a slice from a DataFrame.\n",
      "Try using .loc[row_indexer,col_indexer] = value instead\n",
      "\n",
      "See the caveats in the documentation: http://pandas.pydata.org/pandas-docs/stable/indexing.html#indexing-view-versus-copy\n",
      "  \"\"\"Entry point for launching an IPython kernel.\n"
     ]
    }
   ],
   "source": [
    "long_position['Weight'] = long_position[\"MarketValue\"]/long_position.MarketValue.sum()"
   ]
  },
  {
   "cell_type": "code",
   "execution_count": 37,
   "metadata": {},
   "outputs": [
    {
     "data": {
      "text/html": [
       "<div>\n",
       "<table border=\"1\" class=\"dataframe\">\n",
       "  <thead>\n",
       "    <tr style=\"text-align: right;\">\n",
       "      <th></th>\n",
       "      <th>Symbol</th>\n",
       "      <th>Description</th>\n",
       "      <th>Quantity</th>\n",
       "      <th>Currency</th>\n",
       "      <th>LastPrice</th>\n",
       "      <th>PricePaid</th>\n",
       "      <th>DayChange</th>\n",
       "      <th>ProfitLoss</th>\n",
       "      <th>MarketValue</th>\n",
       "      <th>ProfitLossPercentage</th>\n",
       "      <th>Beta</th>\n",
       "      <th>Weight</th>\n",
       "    </tr>\n",
       "  </thead>\n",
       "  <tbody>\n",
       "    <tr>\n",
       "      <th>1</th>\n",
       "      <td>AAP</td>\n",
       "      <td>Advance Auto Parts Inc.</td>\n",
       "      <td>191</td>\n",
       "      <td>USD</td>\n",
       "      <td>102.280</td>\n",
       "      <td>103.89</td>\n",
       "      <td>-0.75</td>\n",
       "      <td>-307.51</td>\n",
       "      <td>19535.480</td>\n",
       "      <td>-1.55</td>\n",
       "      <td>0.99255</td>\n",
       "      <td>0.019455</td>\n",
       "    </tr>\n",
       "    <tr>\n",
       "      <th>2</th>\n",
       "      <td>AES</td>\n",
       "      <td>The AES Corporation</td>\n",
       "      <td>1853</td>\n",
       "      <td>USD</td>\n",
       "      <td>10.730</td>\n",
       "      <td>10.79</td>\n",
       "      <td>0.01</td>\n",
       "      <td>-111.18</td>\n",
       "      <td>19882.690</td>\n",
       "      <td>-0.56</td>\n",
       "      <td>1.21778</td>\n",
       "      <td>0.019801</td>\n",
       "    </tr>\n",
       "    <tr>\n",
       "      <th>3</th>\n",
       "      <td>AIV</td>\n",
       "      <td>Apartment Investment &amp; Management Company</td>\n",
       "      <td>453</td>\n",
       "      <td>USD</td>\n",
       "      <td>43.951</td>\n",
       "      <td>44.02</td>\n",
       "      <td>0.07</td>\n",
       "      <td>-31.26</td>\n",
       "      <td>19909.803</td>\n",
       "      <td>-0.16</td>\n",
       "      <td>0.47452</td>\n",
       "      <td>0.019828</td>\n",
       "    </tr>\n",
       "    <tr>\n",
       "      <th>8</th>\n",
       "      <td>APA</td>\n",
       "      <td>Apache Corporation</td>\n",
       "      <td>449</td>\n",
       "      <td>USD</td>\n",
       "      <td>39.500</td>\n",
       "      <td>44.74</td>\n",
       "      <td>-0.22</td>\n",
       "      <td>-2,352.76</td>\n",
       "      <td>17735.500</td>\n",
       "      <td>-11.71</td>\n",
       "      <td>1.06901</td>\n",
       "      <td>0.017662</td>\n",
       "    </tr>\n",
       "    <tr>\n",
       "      <th>11</th>\n",
       "      <td>BBBY</td>\n",
       "      <td>Bed Bath &amp; Beyond Inc.</td>\n",
       "      <td>825</td>\n",
       "      <td>USD</td>\n",
       "      <td>23.560</td>\n",
       "      <td>24.14</td>\n",
       "      <td>0.38</td>\n",
       "      <td>-478.5</td>\n",
       "      <td>19437.000</td>\n",
       "      <td>-2.40</td>\n",
       "      <td>1.08043</td>\n",
       "      <td>0.019357</td>\n",
       "    </tr>\n",
       "  </tbody>\n",
       "</table>\n",
       "</div>"
      ],
      "text/plain": [
       "   Symbol                                Description  Quantity Currency  \\\n",
       "1     AAP                    Advance Auto Parts Inc.       191      USD   \n",
       "2     AES                        The AES Corporation      1853      USD   \n",
       "3     AIV  Apartment Investment & Management Company       453      USD   \n",
       "8     APA                         Apache Corporation       449      USD   \n",
       "11   BBBY                     Bed Bath & Beyond Inc.       825      USD   \n",
       "\n",
       "    LastPrice  PricePaid  DayChange ProfitLoss  MarketValue  \\\n",
       "1     102.280     103.89      -0.75    -307.51    19535.480   \n",
       "2      10.730      10.79       0.01    -111.18    19882.690   \n",
       "3      43.951      44.02       0.07     -31.26    19909.803   \n",
       "8      39.500      44.74      -0.22  -2,352.76    17735.500   \n",
       "11     23.560      24.14       0.38     -478.5    19437.000   \n",
       "\n",
       "    ProfitLossPercentage     Beta    Weight  \n",
       "1                  -1.55  0.99255  0.019455  \n",
       "2                  -0.56  1.21778  0.019801  \n",
       "3                  -0.16  0.47452  0.019828  \n",
       "8                 -11.71  1.06901  0.017662  \n",
       "11                 -2.40  1.08043  0.019357  "
      ]
     },
     "execution_count": 37,
     "metadata": {},
     "output_type": "execute_result"
    }
   ],
   "source": [
    "long_position.head()"
   ]
  },
  {
   "cell_type": "code",
   "execution_count": 38,
   "metadata": {},
   "outputs": [
    {
     "name": "stderr",
     "output_type": "stream",
     "text": [
      "/usr/local/lib/python2.7/dist-packages/ipykernel_launcher.py:1: SettingWithCopyWarning: \n",
      "A value is trying to be set on a copy of a slice from a DataFrame.\n",
      "Try using .loc[row_indexer,col_indexer] = value instead\n",
      "\n",
      "See the caveats in the documentation: http://pandas.pydata.org/pandas-docs/stable/indexing.html#indexing-view-versus-copy\n",
      "  \"\"\"Entry point for launching an IPython kernel.\n"
     ]
    }
   ],
   "source": [
    "long_position['Beta_contribution'] = long_position.Beta*long_position.Weight"
   ]
  },
  {
   "cell_type": "code",
   "execution_count": 40,
   "metadata": {},
   "outputs": [
    {
     "data": {
      "text/plain": [
       "1.0635233855249344"
      ]
     },
     "execution_count": 40,
     "metadata": {},
     "output_type": "execute_result"
    }
   ],
   "source": [
    "long_position.Beta_contribution.sum()"
   ]
  },
  {
   "cell_type": "code",
   "execution_count": 41,
   "metadata": {},
   "outputs": [],
   "source": [
    "short_position = position[position.Quantity<0]"
   ]
  },
  {
   "cell_type": "code",
   "execution_count": 42,
   "metadata": {},
   "outputs": [
    {
     "data": {
      "text/html": [
       "<div>\n",
       "<table border=\"1\" class=\"dataframe\">\n",
       "  <thead>\n",
       "    <tr style=\"text-align: right;\">\n",
       "      <th></th>\n",
       "      <th>Symbol</th>\n",
       "      <th>Description</th>\n",
       "      <th>Quantity</th>\n",
       "      <th>Currency</th>\n",
       "      <th>LastPrice</th>\n",
       "      <th>PricePaid</th>\n",
       "      <th>DayChange</th>\n",
       "      <th>ProfitLoss</th>\n",
       "      <th>MarketValue</th>\n",
       "      <th>ProfitLossPercentage</th>\n",
       "      <th>Beta</th>\n",
       "    </tr>\n",
       "  </thead>\n",
       "  <tbody>\n",
       "    <tr>\n",
       "      <th>0</th>\n",
       "      <td>AA</td>\n",
       "      <td>Alcoa Inc.</td>\n",
       "      <td>-479</td>\n",
       "      <td>USD</td>\n",
       "      <td>42.500</td>\n",
       "      <td>41.74</td>\n",
       "      <td>0.10</td>\n",
       "      <td>-364.04</td>\n",
       "      <td>20357.500</td>\n",
       "      <td>-1.82</td>\n",
       "      <td>1.02754</td>\n",
       "    </tr>\n",
       "    <tr>\n",
       "      <th>4</th>\n",
       "      <td>ALGN</td>\n",
       "      <td>Align Technology, Inc.</td>\n",
       "      <td>-79</td>\n",
       "      <td>USD</td>\n",
       "      <td>237.000</td>\n",
       "      <td>253.01</td>\n",
       "      <td>2.63</td>\n",
       "      <td>1,264.79</td>\n",
       "      <td>18723.000</td>\n",
       "      <td>6.33</td>\n",
       "      <td>1.44944</td>\n",
       "    </tr>\n",
       "    <tr>\n",
       "      <th>5</th>\n",
       "      <td>ALLY</td>\n",
       "      <td>Ally Financial Inc.</td>\n",
       "      <td>-735</td>\n",
       "      <td>USD</td>\n",
       "      <td>29.150</td>\n",
       "      <td>27.20</td>\n",
       "      <td>-0.01</td>\n",
       "      <td>-1,433.25</td>\n",
       "      <td>21425.250</td>\n",
       "      <td>-7.17</td>\n",
       "      <td>1.41092</td>\n",
       "    </tr>\n",
       "    <tr>\n",
       "      <th>6</th>\n",
       "      <td>ALNY</td>\n",
       "      <td>Alnylam Pharmaceuticals, Inc.</td>\n",
       "      <td>-147</td>\n",
       "      <td>USD</td>\n",
       "      <td>127.540</td>\n",
       "      <td>137.16</td>\n",
       "      <td>0.25</td>\n",
       "      <td>1,414.14</td>\n",
       "      <td>18748.380</td>\n",
       "      <td>7.01</td>\n",
       "      <td>2.97452</td>\n",
       "    </tr>\n",
       "    <tr>\n",
       "      <th>7</th>\n",
       "      <td>ANET</td>\n",
       "      <td>Arista Networks</td>\n",
       "      <td>-87</td>\n",
       "      <td>USD</td>\n",
       "      <td>222.755</td>\n",
       "      <td>228.67</td>\n",
       "      <td>4.51</td>\n",
       "      <td>514.6</td>\n",
       "      <td>19379.685</td>\n",
       "      <td>2.59</td>\n",
       "      <td>1.35864</td>\n",
       "    </tr>\n",
       "  </tbody>\n",
       "</table>\n",
       "</div>"
      ],
      "text/plain": [
       "  Symbol                    Description  Quantity Currency  LastPrice  \\\n",
       "0     AA                     Alcoa Inc.      -479      USD     42.500   \n",
       "4   ALGN         Align Technology, Inc.       -79      USD    237.000   \n",
       "5   ALLY            Ally Financial Inc.      -735      USD     29.150   \n",
       "6   ALNY  Alnylam Pharmaceuticals, Inc.      -147      USD    127.540   \n",
       "7   ANET                Arista Networks       -87      USD    222.755   \n",
       "\n",
       "   PricePaid  DayChange ProfitLoss  MarketValue  ProfitLossPercentage     Beta  \n",
       "0      41.74       0.10    -364.04    20357.500                 -1.82  1.02754  \n",
       "4     253.01       2.63   1,264.79    18723.000                  6.33  1.44944  \n",
       "5      27.20      -0.01  -1,433.25    21425.250                 -7.17  1.41092  \n",
       "6     137.16       0.25   1,414.14    18748.380                  7.01  2.97452  \n",
       "7     228.67       4.51      514.6    19379.685                  2.59  1.35864  "
      ]
     },
     "execution_count": 42,
     "metadata": {},
     "output_type": "execute_result"
    }
   ],
   "source": [
    "short_position.head()"
   ]
  },
  {
   "cell_type": "code",
   "execution_count": 43,
   "metadata": {},
   "outputs": [
    {
     "name": "stderr",
     "output_type": "stream",
     "text": [
      "/usr/local/lib/python2.7/dist-packages/ipykernel_launcher.py:1: SettingWithCopyWarning: \n",
      "A value is trying to be set on a copy of a slice from a DataFrame.\n",
      "Try using .loc[row_indexer,col_indexer] = value instead\n",
      "\n",
      "See the caveats in the documentation: http://pandas.pydata.org/pandas-docs/stable/indexing.html#indexing-view-versus-copy\n",
      "  \"\"\"Entry point for launching an IPython kernel.\n"
     ]
    }
   ],
   "source": [
    "short_position['Weight'] = -short_position[\"MarketValue\"]/short_position.MarketValue.sum()"
   ]
  },
  {
   "cell_type": "code",
   "execution_count": 44,
   "metadata": {},
   "outputs": [
    {
     "data": {
      "text/html": [
       "<div>\n",
       "<table border=\"1\" class=\"dataframe\">\n",
       "  <thead>\n",
       "    <tr style=\"text-align: right;\">\n",
       "      <th></th>\n",
       "      <th>Symbol</th>\n",
       "      <th>Description</th>\n",
       "      <th>Quantity</th>\n",
       "      <th>Currency</th>\n",
       "      <th>LastPrice</th>\n",
       "      <th>PricePaid</th>\n",
       "      <th>DayChange</th>\n",
       "      <th>ProfitLoss</th>\n",
       "      <th>MarketValue</th>\n",
       "      <th>ProfitLossPercentage</th>\n",
       "      <th>Beta</th>\n",
       "      <th>Weight</th>\n",
       "    </tr>\n",
       "  </thead>\n",
       "  <tbody>\n",
       "    <tr>\n",
       "      <th>0</th>\n",
       "      <td>AA</td>\n",
       "      <td>Alcoa Inc.</td>\n",
       "      <td>-479</td>\n",
       "      <td>USD</td>\n",
       "      <td>42.500</td>\n",
       "      <td>41.74</td>\n",
       "      <td>0.10</td>\n",
       "      <td>-364.04</td>\n",
       "      <td>20357.500</td>\n",
       "      <td>-1.82</td>\n",
       "      <td>1.02754</td>\n",
       "      <td>-0.021440</td>\n",
       "    </tr>\n",
       "    <tr>\n",
       "      <th>4</th>\n",
       "      <td>ALGN</td>\n",
       "      <td>Align Technology, Inc.</td>\n",
       "      <td>-79</td>\n",
       "      <td>USD</td>\n",
       "      <td>237.000</td>\n",
       "      <td>253.01</td>\n",
       "      <td>2.63</td>\n",
       "      <td>1,264.79</td>\n",
       "      <td>18723.000</td>\n",
       "      <td>6.33</td>\n",
       "      <td>1.44944</td>\n",
       "      <td>-0.019718</td>\n",
       "    </tr>\n",
       "    <tr>\n",
       "      <th>5</th>\n",
       "      <td>ALLY</td>\n",
       "      <td>Ally Financial Inc.</td>\n",
       "      <td>-735</td>\n",
       "      <td>USD</td>\n",
       "      <td>29.150</td>\n",
       "      <td>27.20</td>\n",
       "      <td>-0.01</td>\n",
       "      <td>-1,433.25</td>\n",
       "      <td>21425.250</td>\n",
       "      <td>-7.17</td>\n",
       "      <td>1.41092</td>\n",
       "      <td>-0.022564</td>\n",
       "    </tr>\n",
       "    <tr>\n",
       "      <th>6</th>\n",
       "      <td>ALNY</td>\n",
       "      <td>Alnylam Pharmaceuticals, Inc.</td>\n",
       "      <td>-147</td>\n",
       "      <td>USD</td>\n",
       "      <td>127.540</td>\n",
       "      <td>137.16</td>\n",
       "      <td>0.25</td>\n",
       "      <td>1,414.14</td>\n",
       "      <td>18748.380</td>\n",
       "      <td>7.01</td>\n",
       "      <td>2.97452</td>\n",
       "      <td>-0.019745</td>\n",
       "    </tr>\n",
       "    <tr>\n",
       "      <th>7</th>\n",
       "      <td>ANET</td>\n",
       "      <td>Arista Networks</td>\n",
       "      <td>-87</td>\n",
       "      <td>USD</td>\n",
       "      <td>222.755</td>\n",
       "      <td>228.67</td>\n",
       "      <td>4.51</td>\n",
       "      <td>514.6</td>\n",
       "      <td>19379.685</td>\n",
       "      <td>2.59</td>\n",
       "      <td>1.35864</td>\n",
       "      <td>-0.020410</td>\n",
       "    </tr>\n",
       "  </tbody>\n",
       "</table>\n",
       "</div>"
      ],
      "text/plain": [
       "  Symbol                    Description  Quantity Currency  LastPrice  \\\n",
       "0     AA                     Alcoa Inc.      -479      USD     42.500   \n",
       "4   ALGN         Align Technology, Inc.       -79      USD    237.000   \n",
       "5   ALLY            Ally Financial Inc.      -735      USD     29.150   \n",
       "6   ALNY  Alnylam Pharmaceuticals, Inc.      -147      USD    127.540   \n",
       "7   ANET                Arista Networks       -87      USD    222.755   \n",
       "\n",
       "   PricePaid  DayChange ProfitLoss  MarketValue  ProfitLossPercentage  \\\n",
       "0      41.74       0.10    -364.04    20357.500                 -1.82   \n",
       "4     253.01       2.63   1,264.79    18723.000                  6.33   \n",
       "5      27.20      -0.01  -1,433.25    21425.250                 -7.17   \n",
       "6     137.16       0.25   1,414.14    18748.380                  7.01   \n",
       "7     228.67       4.51      514.6    19379.685                  2.59   \n",
       "\n",
       "      Beta    Weight  \n",
       "0  1.02754 -0.021440  \n",
       "4  1.44944 -0.019718  \n",
       "5  1.41092 -0.022564  \n",
       "6  2.97452 -0.019745  \n",
       "7  1.35864 -0.020410  "
      ]
     },
     "execution_count": 44,
     "metadata": {},
     "output_type": "execute_result"
    }
   ],
   "source": [
    "short_position.head()"
   ]
  },
  {
   "cell_type": "code",
   "execution_count": 45,
   "metadata": {},
   "outputs": [
    {
     "name": "stderr",
     "output_type": "stream",
     "text": [
      "/usr/local/lib/python2.7/dist-packages/ipykernel_launcher.py:1: SettingWithCopyWarning: \n",
      "A value is trying to be set on a copy of a slice from a DataFrame.\n",
      "Try using .loc[row_indexer,col_indexer] = value instead\n",
      "\n",
      "See the caveats in the documentation: http://pandas.pydata.org/pandas-docs/stable/indexing.html#indexing-view-versus-copy\n",
      "  \"\"\"Entry point for launching an IPython kernel.\n"
     ]
    }
   ],
   "source": [
    "short_position['Beta_contribution'] =short_position.Beta*short_position.Weight"
   ]
  },
  {
   "cell_type": "code",
   "execution_count": 46,
   "metadata": {},
   "outputs": [
    {
     "data": {
      "text/plain": [
       "-1.4452445993599807"
      ]
     },
     "execution_count": 46,
     "metadata": {},
     "output_type": "execute_result"
    }
   ],
   "source": [
    "short_position.Beta_contribution.sum()"
   ]
  },
  {
   "cell_type": "code",
   "execution_count": 48,
   "metadata": {},
   "outputs": [
    {
     "name": "stderr",
     "output_type": "stream",
     "text": [
      "/usr/local/lib/python2.7/dist-packages/ipykernel_launcher.py:1: FutureWarning: sort(columns=....) is deprecated, use sort_values(by=.....)\n",
      "  \"\"\"Entry point for launching an IPython kernel.\n"
     ]
    }
   ],
   "source": [
    "long_position.sort('Beta_contribution', ascending = False).to_csv(\"long_beta_contri.csv\")"
   ]
  },
  {
   "cell_type": "code",
   "execution_count": 49,
   "metadata": {},
   "outputs": [
    {
     "name": "stderr",
     "output_type": "stream",
     "text": [
      "/usr/local/lib/python2.7/dist-packages/ipykernel_launcher.py:1: FutureWarning: sort(columns=....) is deprecated, use sort_values(by=.....)\n",
      "  \"\"\"Entry point for launching an IPython kernel.\n"
     ]
    }
   ],
   "source": [
    "short_position.sort('Beta_contribution', ascending = False).to_csv(\"short_beta_contri.csv\")"
   ]
  },
  {
   "cell_type": "code",
   "execution_count": null,
   "metadata": {},
   "outputs": [],
   "source": []
  }
 ],
 "metadata": {
  "kernelspec": {
   "display_name": "Python 2",
   "language": "python",
   "name": "python2"
  },
  "language_info": {
   "codemirror_mode": {
    "name": "ipython",
    "version": 2
   },
   "file_extension": ".py",
   "mimetype": "text/x-python",
   "name": "python",
   "nbconvert_exporter": "python",
   "pygments_lexer": "ipython2",
   "version": "2.7.12"
  }
 },
 "nbformat": 4,
 "nbformat_minor": 2
}
